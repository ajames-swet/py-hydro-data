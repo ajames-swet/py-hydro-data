{
 "cells": [
  {
   "cell_type": "code",
   "execution_count": 1,
   "metadata": {},
   "outputs": [
    {
     "data": {
      "text/plain": [
       "DataTransformerRegistry.enable('json')"
      ]
     },
     "execution_count": 1,
     "metadata": {},
     "output_type": "execute_result"
    }
   ],
   "source": [
    "import numpy as np\n",
    "import altair as alt\n",
    "import pandas as pd\n",
    "import os\n",
    "import sys\n",
    "module_path = os.path.abspath(os.path.join('..'))\n",
    "if module_path not in sys.path:\n",
    "    sys.path.append(module_path)\n",
    "from readers import WAMReachData as wrd\n",
    "alt.data_transformers.enable('json')"
   ]
  },
  {
   "cell_type": "code",
   "execution_count": 2,
   "metadata": {},
   "outputs": [
    {
     "data": {
      "text/plain": [
       "'D:\\\\Users\\\\ajames\\\\Dropbox\\\\SWET\\\\PythonProjects\\\\py-hydro-data\\\\notebooks'"
      ]
     },
     "execution_count": 2,
     "metadata": {},
     "output_type": "execute_result"
    }
   ],
   "source": [
    "pwd()"
   ]
  },
  {
   "cell_type": "code",
   "execution_count": 16,
   "metadata": {},
   "outputs": [
    {
     "name": "stdout",
     "output_type": "stream",
     "text": [
      "                 Date  Inflow    Scenario  Cumulative\n",
      "Date                                                 \n",
      "2008-01-01 2008-01-01     0.0  Scenario 6         0.0\n",
      "2008-01-02 2008-01-02     0.0  Scenario 6         0.0\n",
      "2008-01-03 2008-01-03     0.0  Scenario 6         0.0\n",
      "2008-01-04 2008-01-04     0.0  Scenario 6         0.0\n",
      "2008-01-05 2008-01-05     0.0  Scenario 6         0.0\n",
      "                 Date  Inflow    Scenario  Cumulative\n",
      "Date                                                 \n",
      "2008-01-01 2008-01-01     0.0  Scenario 5         0.0\n",
      "2008-01-02 2008-01-02     0.0  Scenario 5         0.0\n",
      "2008-01-03 2008-01-03     0.0  Scenario 5         0.0\n",
      "2008-01-04 2008-01-04     0.0  Scenario 5         0.0\n",
      "2008-01-05 2008-01-05     0.0  Scenario 5         0.0\n",
      "                 Date  Inflow    Scenario  Cumulative\n",
      "Date                                                 \n",
      "2008-01-01 2008-01-01     0.0  Scenario 6         0.0\n",
      "2008-01-02 2008-01-02     0.0  Scenario 6         0.0\n",
      "2008-01-03 2008-01-03     0.0  Scenario 6         0.0\n",
      "2008-01-04 2008-01-04     0.0  Scenario 6         0.0\n",
      "2008-01-05 2008-01-05     0.0  Scenario 6         0.0\n"
     ]
    }
   ],
   "source": [
    "scene6inflow = pd.read_csv('../data/Scenario6InflowPump.csv', parse_dates=True, header=0, names=['Date', 'Inflow'])\n",
    "scene6inflow['Date'] = pd.to_datetime(scene6inflow['Date'])\n",
    "scene6inflow.index = scene6inflow['Date']\n",
    "scene6inflow.loc[:,'Scenario'] = 'Scenario 6'\n",
    "scene6inflow['Cumulative'] = scene6inflow.Inflow.cumsum()\n",
    "print(scene6inflow.head())\n",
    "\n",
    "scene5inflow = pd.read_csv('../data/Scenario5ActLakeInflowPump.csv', parse_dates=True, header=0, names=['Date', 'Inflow'])\n",
    "scene5inflow['Date'] = pd.to_datetime(scene5inflow['Date'])\n",
    "scene5inflow.index = scene5inflow['Date']\n",
    "scene5inflow.loc[:,'Scenario'] = 'Scenario 5'\n",
    "scene5inflow['Cumulative'] = scene5inflow.Inflow.cumsum()\n",
    "print(scene5inflow.head())\n",
    "\n",
    "all_inflow = scene6inflow.append(scene5inflow)\n",
    "\n",
    "print(all_inflow.head())"
   ]
  },
  {
   "cell_type": "code",
   "execution_count": 18,
   "metadata": {},
   "outputs": [
    {
     "data": {
      "application/vnd.vegalite.v2+json": {
       "$schema": "https://vega.github.io/schema/vega-lite/v2.4.1.json",
       "config": {
        "view": {
         "height": 300,
         "width": 400
        }
       },
       "data": {
        "format": {
         "type": "json"
        },
        "url": "altair-data-af0004a5-ae6a-432b-a810-9d5a3a655bfa.json"
       },
       "encoding": {
        "color": {
         "field": "Scenario",
         "type": "nominal"
        },
        "x": {
         "field": "Date",
         "type": "temporal"
        },
        "y": {
         "field": "Cumulative",
         "type": "quantitative"
        }
       },
       "mark": "line",
       "selection": {
        "selector004": {
         "bind": "scales",
         "encodings": [
          "x",
          "y"
         ],
         "mark": {
          "fill": "#333",
          "fillOpacity": 0.125,
          "stroke": "white"
         },
         "on": "[mousedown, window:mouseup] > window:mousemove!",
         "resolve": "global",
         "translate": "[mousedown, window:mouseup] > window:mousemove!",
         "type": "interval",
         "zoom": "wheel!"
        }
       }
      },
      "image/png": "[encoded data removed]",
      "text/plain": [
       "<VegaLite 2 object>\n",
       "\n",
       "If you see this message, it means the renderer has not been properly enabled\n",
       "for the frontend that you are using. For more information, see\n",
       "https://altair-viz.github.io/user_guide/troubleshooting.html\n"
      ]
     },
     "execution_count": 18,
     "metadata": {},
     "output_type": "execute_result"
    }
   ],
   "source": [
    "alt.Chart(all_inflow).mark_line().encode(\n",
    "    x=alt.X('Date:T'),\n",
    "    y=alt.Y('Cumulative'),\n",
    "    color='Scenario:N'\n",
    ").interactive()"
   ]
  },
  {
   "cell_type": "code",
   "execution_count": 22,
   "metadata": {},
   "outputs": [
    {
     "data": {
      "text/html": [
       "<div>\n",
       "<style scoped>\n",
       "    .dataframe tbody tr th:only-of-type {\n",
       "        vertical-align: middle;\n",
       "    }\n",
       "\n",
       "    .dataframe tbody tr th {\n",
       "        vertical-align: top;\n",
       "    }\n",
       "\n",
       "    .dataframe thead th {\n",
       "        text-align: right;\n",
       "    }\n",
       "</style>\n",
       "<table border=\"1\" class=\"dataframe\">\n",
       "  <thead>\n",
       "    <tr style=\"text-align: right;\">\n",
       "      <th>Scenario</th>\n",
       "      <th>Scenario 5</th>\n",
       "      <th>Scenario 6</th>\n",
       "    </tr>\n",
       "    <tr>\n",
       "      <th>Date</th>\n",
       "      <th></th>\n",
       "      <th></th>\n",
       "    </tr>\n",
       "  </thead>\n",
       "  <tbody>\n",
       "    <tr>\n",
       "      <th>2008-12-31</th>\n",
       "      <td>101.2523</td>\n",
       "      <td>94.8048</td>\n",
       "    </tr>\n",
       "    <tr>\n",
       "      <th>2009-12-31</th>\n",
       "      <td>6.7115</td>\n",
       "      <td>7.2420</td>\n",
       "    </tr>\n",
       "    <tr>\n",
       "      <th>2010-12-31</th>\n",
       "      <td>194.1863</td>\n",
       "      <td>265.9799</td>\n",
       "    </tr>\n",
       "    <tr>\n",
       "      <th>2011-12-31</th>\n",
       "      <td>0.0000</td>\n",
       "      <td>0.0000</td>\n",
       "    </tr>\n",
       "    <tr>\n",
       "      <th>2012-12-31</th>\n",
       "      <td>132.5724</td>\n",
       "      <td>93.4883</td>\n",
       "    </tr>\n",
       "    <tr>\n",
       "      <th>2013-12-31</th>\n",
       "      <td>466.7326</td>\n",
       "      <td>222.5279</td>\n",
       "    </tr>\n",
       "    <tr>\n",
       "      <th>2014-12-31</th>\n",
       "      <td>78.1443</td>\n",
       "      <td>142.8656</td>\n",
       "    </tr>\n",
       "    <tr>\n",
       "      <th>2015-12-31</th>\n",
       "      <td>162.3636</td>\n",
       "      <td>257.4214</td>\n",
       "    </tr>\n",
       "    <tr>\n",
       "      <th>2016-12-31</th>\n",
       "      <td>816.2594</td>\n",
       "      <td>439.1305</td>\n",
       "    </tr>\n",
       "    <tr>\n",
       "      <th>2017-12-31</th>\n",
       "      <td>0.0000</td>\n",
       "      <td>308.1153</td>\n",
       "    </tr>\n",
       "  </tbody>\n",
       "</table>\n",
       "</div>"
      ],
      "text/plain": [
       "Scenario    Scenario 5  Scenario 6\n",
       "Date                              \n",
       "2008-12-31    101.2523     94.8048\n",
       "2009-12-31      6.7115      7.2420\n",
       "2010-12-31    194.1863    265.9799\n",
       "2011-12-31      0.0000      0.0000\n",
       "2012-12-31    132.5724     93.4883\n",
       "2013-12-31    466.7326    222.5279\n",
       "2014-12-31     78.1443    142.8656\n",
       "2015-12-31    162.3636    257.4214\n",
       "2016-12-31    816.2594    439.1305\n",
       "2017-12-31      0.0000    308.1153"
      ]
     },
     "execution_count": 22,
     "metadata": {},
     "output_type": "execute_result"
    }
   ],
   "source": [
    "pv_flow = all_inflow.pivot(index='Date', columns='Scenario', values='Inflow')\n",
    "pv_flow.resample('A').apply(sum)"
   ]
  },
  {
   "cell_type": "code",
   "execution_count": 70,
   "metadata": {},
   "outputs": [],
   "source": [
    "# CS_O1_S5_Outflow = wrd.WAMReachData(filename='../data/S5_reach000015_14.csv')"
   ]
  },
  {
   "cell_type": "markdown",
   "metadata": {},
   "source": [
    "The data from the base scenario:"
   ]
  },
  {
   "cell_type": "code",
   "execution_count": 2,
   "metadata": {},
   "outputs": [],
   "source": [
    "CS_O1_B_R15 = wrd.WAMReachData(filename='../data/Base_reach000015_14.csv')\n",
    "PumpIn_B_R6 = wrd.WAMReachData(filename='../data/Base_reach000006_12.csv')\n",
    "CS_O2_B_R42 = wrd.WAMReachData(filename='../data/Base_reach000040_7.csv')\n",
    "CS_O3_B_R41 = wrd.WAMReachData(filename='../data/Base_reach000038_20.csv')\n",
    "S84_B_R2 = wrd.WAMReachData(filename='../data/Base_reach000002_1.csv')\n",
    "S75_B_R13 = wrd.WAMReachData(filename='../data/Base_reach000013_0.csv')"
   ]
  },
  {
   "cell_type": "markdown",
   "metadata": {},
   "source": [
    "The data from scenario 6:"
   ]
  },
  {
   "cell_type": "code",
   "execution_count": 3,
   "metadata": {},
   "outputs": [],
   "source": [
    "CS_O1_S6_R15 = wrd.WAMReachData(filename='../data/S6_reach000015_14.csv')\n",
    "PumpIn_S6_R6 = wrd.WAMReachData(filename='../data/S6_reach000006_12.csv')\n",
    "CS_O2_S6_R42 = wrd.WAMReachData(filename='../data/S6_reach000042_7.csv')\n",
    "CS_O3_S6_R41 = wrd.WAMReachData(filename='../data/S6_reach000041_20.csv')\n",
    "S84_S6_R2 = wrd.WAMReachData(filename='../data/S6_reach000002_1.csv')\n",
    "S75_S6_R13 = wrd.WAMReachData(filename='../data/S6_reach000013_0.csv')"
   ]
  },
  {
   "cell_type": "markdown",
   "metadata": {},
   "source": [
    "Estimates for the full time period, 2008-2017"
   ]
  },
  {
   "cell_type": "code",
   "execution_count": 36,
   "metadata": {},
   "outputs": [],
   "source": [
    "bv_res = pd.DataFrame(columns = ['Location','Base TN', 'Base TP', 'Scenario 6 TN', 'Scenario 6 TP'])\n",
    "\n",
    "s = [['Pump Inflow'], PumpIn_B_R6.reach_data['2008-01-01':'2017-12-31'][['TotalNLoad', 'TotalPLoad']].sum(),PumpIn_S6_R6.reach_data['2008-01-01':'2017-12-31'][['TotalNLoad', 'TotalPLoad']].sum()]\n",
    "bv_res.loc[0] = [item for sublist in s for item in sublist]\n",
    "\n",
    "s = [['Outflow CS-O1'], CS_O1_B_R15.reach_data['2008-01-01':'2017-12-31'][['TotalNLoad', 'TotalPLoad']].sum(),CS_O1_S6_R15.reach_data['2008-01-01':'2017-12-31'][['TotalNLoad', 'TotalPLoad']].sum()]\n",
    "bv_res.loc[1] = [item for sublist in s for item in sublist]\n",
    "\n",
    "s = [['Outflow CS-O2'], CS_O2_B_R42.reach_data['2008-01-01':'2017-12-31'][['TotalNLoad', 'TotalPLoad']].sum(),CS_O2_S6_R42.reach_data['2008-01-01':'2017-12-31'][['TotalNLoad', 'TotalPLoad']].sum()]\n",
    "bv_res.loc[2] = [item for sublist in s for item in sublist]\n",
    "\n",
    "s = [['Outflow CS-O3'], CS_O3_B_R41.reach_data['2008-01-01':'2017-12-31'][['TotalNLoad', 'TotalPLoad']].sum(),CS_O3_S6_R41.reach_data['2008-01-01':'2017-12-31'][['TotalNLoad', 'TotalPLoad']].sum()]\n",
    "bv_res.loc[3] = [item for sublist in s for item in sublist]\n",
    "\n",
    "s = [['Outflow S75'], S75_B_R13.reach_data['2008-01-01':'2017-12-31'][['TotalNLoad', 'TotalPLoad']].sum(),S75_S6_R13.reach_data['2008-01-01':'2017-12-31'][['TotalNLoad', 'TotalPLoad']].sum()]\n",
    "bv_res.loc[5] = [item for sublist in s for item in sublist]\n",
    "\n",
    "s = [['Outflow S84'], S84_B_R2.reach_data['2008-01-01':'2017-12-31'][['TotalNLoad', 'TotalPLoad']].sum(),S84_S6_R2.reach_data['2008-01-01':'2017-12-31'][['TotalNLoad', 'TotalPLoad']].sum()]\n",
    "bv_res.loc[4] = [item for sublist in s for item in sublist]\n",
    "\n",
    "bv_res['TN Diff'] = bv_res['Scenario 6 TN'] - bv_res['Base TN']\n",
    "\n",
    "bv_res['TP Diff'] = bv_res['Scenario 6 TP'] - bv_res['Base TP']\n",
    "\n",
    "writer = pd.ExcelWriter('BrightonScenario6_2008_2017.xlsx')\n",
    "bv_res.to_excel(writer, 'Scenario6')\n",
    "writer.save()\n"
   ]
  },
  {
   "cell_type": "markdown",
   "metadata": {},
   "source": [
    "Estimates from 2008-2016:"
   ]
  },
  {
   "cell_type": "code",
   "execution_count": 37,
   "metadata": {},
   "outputs": [],
   "source": [
    "bv_res_sh = pd.DataFrame(columns = ['Location','Base TN', 'Base TP', 'Scenario 6 TN', 'Scenario 6 TP'])\n",
    "\n",
    "s = [['Pump Inflow'], PumpIn_B_R6.reach_data['2008-01-01':'2016-12-31'][['TotalNLoad', 'TotalPLoad']].sum(),PumpIn_S6_R6.reach_data['2008-01-01':'2016-12-31'][['TotalNLoad', 'TotalPLoad']].sum()]\n",
    "bv_res_sh.loc[0] = [item for sublist in s for item in sublist]\n",
    "\n",
    "s = [['Outflow CS-O1'], CS_O1_B_R15.reach_data['2008-01-01':'2016-12-31'][['TotalNLoad', 'TotalPLoad']].sum(),CS_O1_S6_R15.reach_data['2008-01-01':'2016-12-31'][['TotalNLoad', 'TotalPLoad']].sum()]\n",
    "bv_res_sh.loc[1] = [item for sublist in s for item in sublist]\n",
    "\n",
    "s = [['Outflow CS-O2'], CS_O2_B_R42.reach_data['2008-01-01':'2016-12-31'][['TotalNLoad', 'TotalPLoad']].sum(),CS_O2_S6_R42.reach_data['2008-01-01':'2016-12-31'][['TotalNLoad', 'TotalPLoad']].sum()]\n",
    "bv_res_sh.loc[2] = [item for sublist in s for item in sublist]\n",
    "\n",
    "s = [['Outflow CS-O3'], CS_O3_B_R41.reach_data['2008-01-01':'2016-12-31'][['TotalNLoad', 'TotalPLoad']].sum(),CS_O3_S6_R41.reach_data['2008-01-01':'2016-12-31'][['TotalNLoad', 'TotalPLoad']].sum()]\n",
    "bv_res_sh.loc[3] = [item for sublist in s for item in sublist]\n",
    "\n",
    "s = [['Outflow S75'], S75_B_R13.reach_data['2008-01-01':'2016-12-31'][['TotalNLoad', 'TotalPLoad']].sum(),S75_S6_R13.reach_data['2008-01-01':'2016-12-31'][['TotalNLoad', 'TotalPLoad']].sum()]\n",
    "bv_res_sh.loc[5] = [item for sublist in s for item in sublist]\n",
    "\n",
    "s = [['Outflow S84'], S84_B_R2.reach_data['2008-01-01':'2016-12-31'][['TotalNLoad', 'TotalPLoad']].sum(),S84_S6_R2.reach_data['2008-01-01':'2016-12-31'][['TotalNLoad', 'TotalPLoad']].sum()]\n",
    "bv_res_sh.loc[4] = [item for sublist in s for item in sublist]\n",
    "\n",
    "bv_res_sh['TN Diff'] = bv_res_sh['Scenario 6 TN'] - bv_res_sh['Base TN']\n",
    "\n",
    "bv_res_sh['TP Diff'] = bv_res_sh['Scenario 6 TP'] - bv_res_sh['Base TP']\n",
    "\n",
    "writer = pd.ExcelWriter('BrightonScenario6_2008_2016.xlsx')\n",
    "bv_res_sh.to_excel(writer, 'Scenario6')\n",
    "writer.save()\n"
   ]
  },
  {
   "cell_type": "code",
   "execution_count": 91,
   "metadata": {},
   "outputs": [
    {
     "name": "stdout",
     "output_type": "stream",
     "text": [
      "Pump In\n",
      "TotalNLoad    774945.01841\n",
      "TotalPLoad     45887.48072\n",
      "dtype: float64\n",
      "Outflow CS-O1\n",
      "TotalNLoad    569014.612914\n",
      "TotalPLoad     16204.983627\n",
      "dtype: float64\n",
      "Outflow CS-O2\n",
      "TotalNLoad    5775.596360\n",
      "TotalPLoad      72.434102\n",
      "dtype: float64\n",
      "Outflow CS-O3\n",
      "TotalNLoad    4849.191433\n",
      "TotalPLoad      59.250263\n",
      "dtype: float64\n",
      "Outflow S84\n",
      "TotalNLoad    4.589017e+06\n",
      "TotalPLoad    2.636253e+05\n",
      "dtype: float64\n",
      "Outflow C75\n",
      "TotalNLoad    1.626632e+06\n",
      "TotalPLoad    1.412734e+05\n",
      "dtype: float64\n"
     ]
    }
   ],
   "source": [
    "print('Pump In\\n{0}'.format(PumpIn_S6_R6.reach_data['2008-01-01':'2017-12-31'][['TotalNLoad', 'TotalPLoad']].sum()))\n",
    "print('Outflow CS-O1\\n{0}'.format(CS_O1_S6_R15.reach_data['2008-01-01':'2017-12-31'][['TotalNLoad', 'TotalPLoad']].sum()))\n",
    "print('Outflow CS-O2\\n{0}'.format(CS_O2_S6_R42.reach_data['2008-01-01':'2017-12-31'][['TotalNLoad', 'TotalPLoad']].sum()))\n",
    "print('Outflow CS-O3\\n{0}'.format(CS_O3_S6_R41.reach_data['2008-01-01':'2017-12-31'][['TotalNLoad', 'TotalPLoad']].sum()))\n",
    "print('Outflow S84\\n{0}'.format(S84_S6_R2.reach_data['2008-01-01':'2017-12-31'][['TotalNLoad', 'TotalPLoad']].sum()))\n",
    "print('Outflow C75\\n{0}'.format(S75_S6_R13.reach_data['2008-01-01':'2017-12-31'][['TotalNLoad', 'TotalPLoad']].sum()))\n"
   ]
  },
  {
   "cell_type": "code",
   "execution_count": 85,
   "metadata": {},
   "outputs": [
    {
     "data": {
      "text/plain": [
       "569014.6129143084"
      ]
     },
     "execution_count": 85,
     "metadata": {},
     "output_type": "execute_result"
    }
   ],
   "source": [
    "CS_O1_S6_R15.reach_data['2008-01-01':'2017-12-31'].sum()['TotalNLoad']"
   ]
  },
  {
   "cell_type": "code",
   "execution_count": 93,
   "metadata": {},
   "outputs": [],
   "source": []
  },
  {
   "cell_type": "code",
   "execution_count": 94,
   "metadata": {},
   "outputs": [
    {
     "name": "stdout",
     "output_type": "stream",
     "text": [
      "Pump In\n",
      "TotalNLoad    0.0\n",
      "TotalPLoad    0.0\n",
      "dtype: float64\n",
      "Outflow CS-O1\n",
      "TotalNLoad    87350.533807\n",
      "TotalPLoad     3194.491974\n",
      "dtype: float64\n",
      "Outflow CS-O2\n",
      "TotalNLoad   -1044.925134\n",
      "TotalPLoad     -42.255480\n",
      "dtype: float64\n",
      "Outflow CS-O3\n",
      "TotalNLoad   -8717.787008\n",
      "TotalPLoad    -366.371440\n",
      "dtype: float64\n",
      "Outflow S84\n",
      "TotalNLoad    5.338708e+06\n",
      "TotalPLoad    3.080932e+05\n",
      "dtype: float64\n",
      "Outflow C75\n",
      "TotalNLoad    1.139914e+06\n",
      "TotalPLoad    1.264833e+05\n",
      "dtype: float64\n"
     ]
    }
   ],
   "source": [
    "print('Pump In\\n{0}'.format(PumpIn_B_R6.reach_data['2008-01-01':'2017-12-31'][['TotalNLoad', 'TotalPLoad']].sum()))\n",
    "print('Outflow CS-O1\\n{0}'.format(CS_O1_B_R15.reach_data['2008-01-01':'2017-12-31'][['TotalNLoad', 'TotalPLoad']].sum()))\n",
    "print('Outflow CS-O2\\n{0}'.format(CS_O2_B_R42.reach_data['2008-01-01':'2017-12-31'][['TotalNLoad', 'TotalPLoad']].sum()))\n",
    "print('Outflow CS-O3\\n{0}'.format(CS_O3_B_R41.reach_data['2008-01-01':'2017-12-31'][['TotalNLoad', 'TotalPLoad']].sum()))\n",
    "print('Outflow S84\\n{0}'.format(S84_B_R2.reach_data['2008-01-01':'2017-12-31'][['TotalNLoad', 'TotalPLoad']].sum()))\n",
    "print('Outflow C75\\n{0}'.format(S75_B_R13.reach_data['2008-01-01':'2017-12-31'][['TotalNLoad', 'TotalPLoad']].sum()))\n"
   ]
  },
  {
   "cell_type": "code",
   "execution_count": 64,
   "metadata": {},
   "outputs": [
    {
     "data": {
      "text/plain": [
       "TotalNLoadS6    458293.567158\n",
       "dtype: float64"
      ]
     },
     "execution_count": 64,
     "metadata": {},
     "output_type": "execute_result"
    }
   ],
   "source": [
    "tn06['2008-01-01':'2017-12-31'].sum()"
   ]
  },
  {
   "cell_type": "code",
   "execution_count": 74,
   "metadata": {},
   "outputs": [
    {
     "data": {
      "text/plain": [
       "569014.6129143093"
      ]
     },
     "execution_count": 74,
     "metadata": {},
     "output_type": "execute_result"
    }
   ],
   "source": [
    "tn062 = CS_O1_S6_R15.get_annual_sums('TotalNLoad')\n",
    "tn062['2008-01-01':'2017-12-31'].sum()"
   ]
  },
  {
   "cell_type": "code",
   "execution_count": null,
   "metadata": {},
   "outputs": [],
   "source": []
  }
 ],
 "metadata": {
  "kernelspec": {
   "display_name": "Python 3",
   "language": "python",
   "name": "python3"
  },
  "language_info": {
   "codemirror_mode": {
    "name": "ipython",
    "version": 3
   },
   "file_extension": ".py",
   "mimetype": "text/x-python",
   "name": "python",
   "nbconvert_exporter": "python",
   "pygments_lexer": "ipython3",
   "version": "3.6.4"
  }
 },
 "nbformat": 4,
 "nbformat_minor": 2
}
