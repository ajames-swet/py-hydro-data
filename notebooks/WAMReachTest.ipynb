{
 "cells": [
  {
   "cell_type": "code",
   "execution_count": 1,
   "metadata": {},
   "outputs": [],
   "source": [
    "import numpy as np\n",
    "import altair as alt\n",
    "import os\n",
    "import sys\n",
    "module_path = os.path.abspath(os.path.join('..'))\n",
    "if module_path not in sys.path:\n",
    "    sys.path.append(module_path)\n",
    "from readers import WAMReachData as wrd"
   ]
  },
  {
   "cell_type": "code",
   "execution_count": 2,
   "metadata": {},
   "outputs": [
    {
     "name": "stdout",
     "output_type": "stream",
     "text": [
      "['', 'C:\\\\ProgramData\\\\Anaconda3\\\\python36.zip', 'C:\\\\ProgramData\\\\Anaconda3\\\\DLLs', 'C:\\\\ProgramData\\\\Anaconda3\\\\lib', 'C:\\\\ProgramData\\\\Anaconda3', 'C:\\\\ProgramData\\\\Anaconda3\\\\lib\\\\site-packages', 'C:\\\\ProgramData\\\\Anaconda3\\\\lib\\\\site-packages\\\\win32', 'C:\\\\ProgramData\\\\Anaconda3\\\\lib\\\\site-packages\\\\win32\\\\lib', 'C:\\\\ProgramData\\\\Anaconda3\\\\lib\\\\site-packages\\\\Pythonwin', 'C:\\\\ProgramData\\\\Anaconda3\\\\lib\\\\site-packages\\\\IPython\\\\extensions', 'C:\\\\Users\\\\ajames\\\\.ipython', 'D:\\\\Users\\\\ajames\\\\Dropbox\\\\SWET\\\\PythonProjects\\\\py-hydro-data']\n"
     ]
    }
   ],
   "source": [
    "print(sys.path)"
   ]
  },
  {
   "cell_type": "code",
   "execution_count": 3,
   "metadata": {},
   "outputs": [
    {
     "data": {
      "text/plain": [
       "'D:\\\\Users\\\\ajames\\\\Dropbox\\\\SWET\\\\PythonProjects\\\\py-hydro-data\\\\notebooks'"
      ]
     },
     "execution_count": 3,
     "metadata": {},
     "output_type": "execute_result"
    }
   ],
   "source": [
    "pwd()"
   ]
  },
  {
   "cell_type": "code",
   "execution_count": 4,
   "metadata": {},
   "outputs": [],
   "source": [
    "rch_data = wrd.WAMReachData(filename='../data/reach000042_7.csv')"
   ]
  },
  {
   "cell_type": "code",
   "execution_count": 6,
   "metadata": {},
   "outputs": [
    {
     "name": "stdout",
     "output_type": "stream",
     "text": [
      "                                   Date  YYYYDOY  Hr    Stage    Depth  \\\n",
      "Date                                                                     \n",
      "2003-01-01 12:00:00 2003-01-01 12:00:00  2003001  12  7.54193  0.89193   \n",
      "2003-01-02 12:00:00 2003-01-02 12:00:00  2003002  12  7.56088  0.91088   \n",
      "2003-01-03 12:00:00 2003-01-03 12:00:00  2003003  12  7.57097  0.92097   \n",
      "2003-01-04 12:00:00 2003-01-04 12:00:00  2003004  12  7.57482  0.92482   \n",
      "2003-01-05 12:00:00 2003-01-05 12:00:00  2003005  12  7.54040  0.89040   \n",
      "\n",
      "                         Vel     Flow  FlowOutFrac  FlowOut     TSSOut  \\\n",
      "Date                                                                     \n",
      "2003-01-01 12:00:00  0.00000  0.00000          1.0  0.00000  100.26052   \n",
      "2003-01-02 12:00:00  0.00000  0.00000          1.0  0.00000  100.55319   \n",
      "2003-01-03 12:00:00  0.00000  0.00000          1.0  0.00000  100.82880   \n",
      "2003-01-04 12:00:00  0.00000  0.00000          1.0  0.00000  101.24345   \n",
      "2003-01-05 12:00:00  0.00241  0.01158          1.0  0.01158  101.81451   \n",
      "\n",
      "                        ...      SolPLoad  SedNH4Load  SedOrgNLoad  SedPLoad  \\\n",
      "Date                    ...                                                    \n",
      "2003-01-01 12:00:00     ...      0.000000    0.000000     0.000000  0.000000   \n",
      "2003-01-02 12:00:00     ...      0.000000    0.000000     0.000000  0.000000   \n",
      "2003-01-03 12:00:00     ...      0.000000    0.000000     0.000000  0.000000   \n",
      "2003-01-04 12:00:00     ...      0.000000    0.000000     0.000000  0.000000   \n",
      "2003-01-05 12:00:00     ...      0.021641    0.064603     0.081102  0.006513   \n",
      "\n",
      "                     TotalSolNLoad  TotalPartNLoad  TotalNLoad  TotalPLoad  \\\n",
      "Date                                                                         \n",
      "2003-01-01 12:00:00       0.000000        0.000000    0.000000    0.000000   \n",
      "2003-01-02 12:00:00       0.000000        0.000000    0.000000    0.000000   \n",
      "2003-01-03 12:00:00       0.000000        0.000000    0.000000    0.000000   \n",
      "2003-01-04 12:00:00       0.000000        0.000000    0.000000    0.000000   \n",
      "2003-01-05 12:00:00       1.068737        0.145705    1.214441    0.028154   \n",
      "\n",
      "                      BODLoad     TSSLoad  \n",
      "Date                                       \n",
      "2003-01-01 12:00:00  0.000000    0.000000  \n",
      "2003-01-02 12:00:00  0.000000    0.000000  \n",
      "2003-01-03 12:00:00  0.000000    0.000000  \n",
      "2003-01-04 12:00:00  0.000000    0.000000  \n",
      "2003-01-05 12:00:00  2.067238  101.866639  \n",
      "\n",
      "[5 rows x 50 columns]\n"
     ]
    }
   ],
   "source": [
    "print(rch_data.reach_data.head())"
   ]
  },
  {
   "cell_type": "code",
   "execution_count": null,
   "metadata": {},
   "outputs": [],
   "source": []
  }
 ],
 "metadata": {
  "kernelspec": {
   "display_name": "Python 3",
   "language": "python",
   "name": "python3"
  },
  "language_info": {
   "codemirror_mode": {
    "name": "ipython",
    "version": 3
   },
   "file_extension": ".py",
   "mimetype": "text/x-python",
   "name": "python",
   "nbconvert_exporter": "python",
   "pygments_lexer": "ipython3",
   "version": "3.6.4"
  }
 },
 "nbformat": 4,
 "nbformat_minor": 2
}
